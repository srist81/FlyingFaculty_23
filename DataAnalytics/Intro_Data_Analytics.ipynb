{
 "cells": [
  {
   "cell_type": "markdown",
   "metadata": {},
   "source": [
    "# Introduction to Data Analytics with Python\n",
    "\n",
    "## Visualization\n",
    "\n",
    "Der Mensch hat nur eine Breitbandleitung zum Gehirn... Die Augen \\\n",
    "There is only one broadband connection to our brain... The eyes \n",
    "\n",
    "The remainder of this notebook is in german. If you have any issues understanding please ask.\n",
    "\n",
    "Da eine gute Visualisierung bereits viel Aufschluss über Daten geben kann hier noch einmal ein Notebook, dass sich ausschliesslich mit der Visualisierung beschäftigt.\n",
    "\n",
    "Die Daten kommen urspruenglich von  https://www.gapminder.org/ und diese Uebung bezieht sich auf den Ted Talk\n",
    "https://www.ted.com/talks/hans_rosling_shows_the_best_stats_you_ve_ever_seen?language=en\n",
    "\n",
    "Wir werden in diesem Abschnitt die ggplot Routinen verwenden die im plotnine Paket enthalten sind.\n",
    "\n",
    "Sie sollten sich nicht alle Befehle im Detail merken sondern die Konzepte und falls Sie eine Visualisierung von Daten vornehmen möchten suchen Sie sich ein Code Beispiel z.B. aus diesem Notebook und passen es an Ihre Situation an!"
   ]
  },
  {
   "cell_type": "markdown",
   "metadata": {},
   "source": [
    "### Vorbereitungen \n",
    "Als erstes laden wir die benötigten Pakete und setze den Pfad zu den Daten. Sie müssen die Daten in dem Ordner \"data\" im selben Verzeichnis abgelegt haben wie das Notebook!\n",
    "\n",
    "Laden der benötigten Pakete"
   ]
  },
  {
   "cell_type": "code",
   "execution_count": null,
   "metadata": {},
   "outputs": [],
   "source": [
    "from pathlib import Path\n",
    "import numpy as np # enthält viele mathematische Funktionen\n",
    "import pandas as pd\n",
    "import matplotlib.pyplot as plt   # zum erstellen von Graphen\n",
    "import seaborn as sns # zum erstellen von Graphen\n",
    "import plotnine as p9\n",
    "\n",
    "plt.rcParams[\"figure.figsize\"]=12,8 #Größe aller Bilder in diesem Notebook\n"
   ]
  },
  {
   "cell_type": "markdown",
   "metadata": {},
   "source": [
    "Sollten Sie Fehlermeldungen erhalten, weil ein Paket nicht installiert ist, so können Sie dies mit folgendem Befehl installieren."
   ]
  },
  {
   "cell_type": "code",
   "execution_count": null,
   "metadata": {},
   "outputs": [],
   "source": [
    "#import sys\n",
    "#!conda install --yes --prefix {sys.prefix} PAKETNAME\n",
    "# z.B. müssen Sie vermutlich das plotnine paket laden\n",
    "#!conda install --yes --prefix {sys.prefix} plotnine"
   ]
  },
  {
   "cell_type": "markdown",
   "metadata": {},
   "source": [
    "Sollte das Paket nicht gefunden werden können Sie noch folgenden Befehl verwenden. Dabei wird das Paket im conda-forge Kanal gesucht in dem sich mehr Pakete befinden als im Standard conda Kanal."
   ]
  },
  {
   "cell_type": "code",
   "execution_count": null,
   "metadata": {},
   "outputs": [],
   "source": [
    "#import sys\n",
    "#!conda install --yes --channel conda-forge --prefix {sys.prefix} PAKETNAME"
   ]
  },
  {
   "cell_type": "code",
   "execution_count": null,
   "metadata": {},
   "outputs": [],
   "source": [
    "DATA = Path().resolve() / 'data'\n",
    "GAPMINDER_CSV = DATA / 'gapminder_data.csv'"
   ]
  },
  {
   "cell_type": "markdown",
   "metadata": {},
   "source": [
    "## Daten Exploration\n",
    "Wir schauen uns zunächst die Daten ein wenig an"
   ]
  },
  {
   "cell_type": "code",
   "execution_count": null,
   "metadata": {},
   "outputs": [],
   "source": [
    "# Laden der Daten\n",
    "gapminder = pd.read_csv(GAPMINDER_CSV)\n",
    "gapminder.head(4) # mit .head() werden die ersten 5 Zeilen dargestellt\n"
   ]
  },
  {
   "cell_type": "code",
   "execution_count": null,
   "metadata": {
    "scrolled": true
   },
   "outputs": [],
   "source": [
    "#Übersicht \n",
    "gapminder.info()"
   ]
  },
  {
   "cell_type": "code",
   "execution_count": null,
   "metadata": {},
   "outputs": [],
   "source": [
    "# Wir wollen die Kinder pro Frau in Deutschland, den USA und Jordanien 1960 und 2010 vergleichen\n",
    "# suchen mit dem .query Befehl\n",
    "display(gapminder.query('year in [1960,2010]  & country in [\"United States\",\"Germany\",\"Jordan\"]')[['year','country','fertility']])\n",
    "# suchen mit .isin()\n",
    "display(gapminder[(gapminder['year'].isin([1960,2010]) ) & gapminder['country'].isin([\"United States\",\"Germany\",\"Jordan\"])][['year','country','fertility']])"
   ]
  },
  {
   "cell_type": "markdown",
   "metadata": {},
   "source": [
    "Falls Sie sich bereits mit R auskennen finden Sie hier einen Vergleich zwischen den R-Funktionen und pandas Funktionen: \n",
    "\n",
    "https://pandas.pydata.org/pandas-docs/stable/getting_started/comparison/comparison_with_r.html\n",
    "\n",
    "**Aufgabe:**\n",
    "\n",
    "Was meinen Sie, ist die Kindersterblichkeit im Jahr 2015 in der Türkei höher oder niedriger als in Sri Lanka? Und wie sieht es mit Jordanien aus?\n",
    "Beantworten Sie diese Frage mit Hilfe der Gapminder Daten."
   ]
  },
  {
   "cell_type": "code",
   "execution_count": null,
   "metadata": {
    "scrolled": true
   },
   "outputs": [],
   "source": [
    "#Vergleich der Kindersterblichkeit der Türkei und Sri Lanka im Jahr 2015\n"
   ]
  },
  {
   "cell_type": "markdown",
   "metadata": {},
   "source": [
    "### Scatter Plots"
   ]
  },
  {
   "cell_type": "markdown",
   "metadata": {},
   "source": [
    "Wie hat sich die Unterteilung der Welt in Entwicklungsländer und dem \"Westen\" entwickelt? Arme Länder bzw. reiche Länder werden wie folgt unterschieden:\n",
    "\n",
    "Arm -> niedrige Lebenserwartung und viele Kinder\n",
    "\n",
    "Reich -> hohe Lebenserwartung und wenige Kinder"
   ]
  },
  {
   "cell_type": "code",
   "execution_count": null,
   "metadata": {},
   "outputs": [],
   "source": [
    "g1 = p9.ggplot(gapminder.query('year == 1962'), \n",
    "          p9.aes(x='fertility', y='life_expectancy')) + p9.geom_point()\n",
    "\n",
    "g2 = (p9.ggplot(gapminder.query('year == 1962'), \n",
    "          p9.aes(x='fertility', y='life_expectancy',color = 'continent')) \n",
    "          + p9.geom_point()\n",
    ")\n",
    "\n",
    "#print(g1) #ohne Farben kann man nicht wirklich viel erkennen\n",
    "print(g2) # Kontinente mit unterschiedlichen Farben"
   ]
  },
  {
   "cell_type": "markdown",
   "metadata": {},
   "source": [
    "Jetzt wollen wir uns noch die Entwicklung über verschiedene Jahre anschauen"
   ]
  },
  {
   "cell_type": "code",
   "execution_count": null,
   "metadata": {},
   "outputs": [],
   "source": [
    "selected_years = [1962,1980,2012]\n",
    "plot_data = gapminder[gapminder.year.isin([1962,1980,2015])]\n",
    "gf1=(p9.ggplot(plot_data, \n",
    "          p9.aes(x='fertility', y='life_expectancy',color = 'continent')) \n",
    "   + p9.geom_point() \n",
    "   + p9.facet_grid('continent ~ year')\n",
    "  )\n",
    "\n",
    "selected_years = [1962,1980,2015]\n",
    "plot_data = gapminder[gapminder.year.isin([1962,1980,2015])]\n",
    "gf2=(p9.ggplot(plot_data, \n",
    "          p9.aes(x='fertility', y='life_expectancy',color = 'continent')) \n",
    "   + p9.geom_point() \n",
    "   + p9.facet_grid('.~ year')\n",
    "  )\n",
    "\n",
    "print(gf1)\n",
    "#print(gf2)"
   ]
  },
  {
   "cell_type": "markdown",
   "metadata": {},
   "source": [
    "Jetzt direkt im Vergleich nur Europa und Asien\n",
    "\n",
    "**Aufgabe:** \\\n",
    "Machen Sie den selben Plot nur für Asien und Europa für die angegebenen Jahre"
   ]
  },
  {
   "cell_type": "code",
   "execution_count": null,
   "metadata": {},
   "outputs": [],
   "source": [
    "selected_years = [1962,1980,1990,2000,2015]\n"
   ]
  },
  {
   "cell_type": "markdown",
   "metadata": {},
   "source": [
    "Sie sollten sehen, dass was Kinderzahl pro Frau und die Lebenserwartung angeht Asien sich deutlich in die selbe Richtung bewegt wie in Europa. Man könnte sagen, dass Asien 2015 in diesen Parametern in etwa Europa 1990 entspricht.\n",
    "\n",
    "### Zeitreihen\n",
    "\n",
    "In diesem Abschnitt wollen wir die zeitliche Entwicklung einiger weniger Parameter für einzelne Länder vergleichen. Dazu eignen sich Zeitreihen"
   ]
  },
  {
   "cell_type": "code",
   "execution_count": null,
   "metadata": {},
   "outputs": [],
   "source": [
    "# Wie hat sich die Anzahl der Kinder pro Frau in den USA und in Deutschland über die Zeit entwickelt?\n",
    "\n",
    "plot_data = gapminder[gapminder.country.isin(['United States','Germany'])]\n",
    "gl0=(p9.ggplot(plot_data, \n",
    "          p9.aes(x='year', y='fertility')) \n",
    "   + p9.geom_line() \n",
    "  )\n",
    "\n",
    "gl1=(p9.ggplot(plot_data, \n",
    "          p9.aes(x='year', y='fertility',color = 'country')) \n",
    "   + p9.geom_line() \n",
    "  )\n",
    "\n",
    "print(gl0) # irgend etwas geht hier schief\n",
    "#print(gl1)"
   ]
  },
  {
   "cell_type": "code",
   "execution_count": null,
   "metadata": {
    "scrolled": true
   },
   "outputs": [],
   "source": [
    "# Jetzt schauen wir uns noch die Lebenserwartung der beiden Länder über die Zeit an\n",
    "\n",
    "plot_data = gapminder[gapminder.country.isin(['United States','Germany'])]\n",
    "gl2=(p9.ggplot(plot_data, \n",
    "          p9.aes(x='year', y='life_expectancy',color = 'country')) \n",
    "   + p9.geom_line() \n",
    "  )\n",
    "print(gl2)"
   ]
  },
  {
   "cell_type": "markdown",
   "metadata": {},
   "source": [
    "### Boxplots\n",
    "\n",
    "Wenn wir die Verteilungen eines Parameters (hier das Einkommen) von verschiedenen Gruppen vergleichen wollen sind Boxplots sehr gut geeignet. Im folgenden wollen wir uns veranschaulichen wie sich die ökonomischen Verhältnisse der Menschen in den unterschiedlichen Regionen der Welt verändert haben."
   ]
  },
  {
   "cell_type": "code",
   "execution_count": null,
   "metadata": {
    "scrolled": true
   },
   "outputs": [],
   "source": [
    "# Wir generieren die Spalte dollars_per_day und verwerfen die Datenpunkt für die es keine Daten zu diesem Parameter gibt\n",
    "gapminder['dollars_per_day'] =gapminder.gdp/gapminder.population/365\n",
    "gapminder_clean = gapminder.dropna(subset = ['dollars_per_day'])\n",
    "gapminder_clean.head()\n",
    "# Anmerkung die Spalte dollars_per_day existierte schon, wurde aber auf diese Weise generiert "
   ]
  },
  {
   "cell_type": "code",
   "execution_count": null,
   "metadata": {},
   "outputs": [],
   "source": [
    "#jetzt veranschaulichen wir uns die Variable dollar_per_day für die unterschiedlichen Regionen\n",
    "gb0=(p9.ggplot(gapminder_clean[gapminder_clean.year == 1975], \n",
    "          p9.aes(x='region', y='dollars_per_day')) \n",
    "   + p9.geom_boxplot() \n",
    "  )\n",
    "\n",
    "print(gb0)"
   ]
  },
  {
   "cell_type": "code",
   "execution_count": null,
   "metadata": {},
   "outputs": [],
   "source": [
    "#Die x-Labels können wir so nicht erkennen, daher rotieren wir diese um 90° \n",
    "gb1=(p9.ggplot(gapminder_clean[gapminder_clean.year == 1975], \n",
    "          p9.aes(x='region', y='dollars_per_day')) \n",
    "   + p9.geom_boxplot() \n",
    "   + p9.theme(axis_text_x = p9.element_text(rotation = 90, hjust = 1))\n",
    ")\n",
    "\n",
    "print(gb1)"
   ]
  },
  {
   "cell_type": "code",
   "execution_count": null,
   "metadata": {},
   "outputs": [],
   "source": [
    "# Wir färben die Kontinente noch in unterschiedliche Farben ein\n",
    "gb2=(p9.ggplot(gapminder_clean[gapminder_clean.year == 1975], \n",
    "          p9.aes(x='region', y='dollars_per_day',fill = 'continent')) \n",
    "   + p9.geom_boxplot() \n",
    "   + p9.theme(axis_text_x = p9.element_text(rotation = 90, hjust = 1))\n",
    ")\n",
    "\n",
    "print(gb2)"
   ]
  },
  {
   "cell_type": "markdown",
   "metadata": {},
   "source": [
    "Um einen schönen Übersichtlichen Graphen zu erhalten wollen wir jetzt noch die Daten nach dem Einkommen pro Kopf sortieren, die y-Achse logarithmisch skalieren damit auch die Länder die ein sehr niedriges Einkommen haben sichtbar werden und wir wollen zusätzlich alle Datenpunkte anzeigen"
   ]
  },
  {
   "cell_type": "code",
   "execution_count": null,
   "metadata": {},
   "outputs": [],
   "source": [
    "# Wir sortieren jetzt noch die Daten nach der Höhe von dollars_per_day\n",
    "# Skalieren die y-Achse mit dem Log2\n",
    "# Zeigen alle Daten an\n",
    "gb3=(p9.ggplot(gapminder_clean[gapminder_clean.year == 1975], \n",
    "          p9.aes(x='reorder(region,dollars_per_day)', y='dollars_per_day',fill = 'continent')) \n",
    "   + p9.geom_boxplot() \n",
    "   + p9.theme(axis_text_x = p9.element_text(rotation = 90, hjust = 1))\n",
    "   + p9.scale_y_continuous(trans = 'log2')\n",
    "   + p9.geom_point(show_legend=False)  \n",
    ")\n",
    "\n",
    "print(gb3)"
   ]
  },
  {
   "cell_type": "code",
   "execution_count": null,
   "metadata": {
    "scrolled": true
   },
   "outputs": [],
   "source": [
    "#Jetzt vergleichen wir noch die Jahre 1975 und 2010\n",
    "gb4=(p9.ggplot(gapminder_clean[gapminder_clean.year.isin([1975,2010])], \n",
    "          p9.aes(x='reorder(region,dollars_per_day)', y='dollars_per_day',fill = 'continent')) \n",
    "   + p9.geom_boxplot() \n",
    "   + p9.theme(axis_text_x = p9.element_text(rotation = 90, hjust = 1))\n",
    "   + p9.scale_y_continuous(trans = 'log2')\n",
    "   + p9.geom_point(show_legend=False) \n",
    "   + p9.facet_grid('year ~.')\n",
    ")\n",
    "\n",
    "print(gb4)"
   ]
  },
  {
   "cell_type": "markdown",
   "metadata": {},
   "source": [
    "Wir sehen, dass es nicht ganz so einfach ist im oberen Graphen die Entwicklung der einzelnen Regionen abzulesen. Es wäre besser wenn wir die Boxplots für die einzelnen Jahre in einem Graphen nebeneinander hätten. Dies machen wir jetzt noch."
   ]
  },
  {
   "cell_type": "code",
   "execution_count": null,
   "metadata": {},
   "outputs": [],
   "source": [
    "gb5=(p9.ggplot(gapminder_clean[gapminder_clean.year.isin([1975,2010])], \n",
    "          p9.aes(x='reorder(region,dollars_per_day)', y='dollars_per_day',fill = 'factor(year)')) \n",
    "   + p9.geom_boxplot() \n",
    "   + p9.theme(axis_text_x = p9.element_text(rotation = 90, hjust = 1))\n",
    "   + p9.scale_y_continuous(trans = 'log2')\n",
    ")\n",
    "\n",
    "print(gb5)"
   ]
  },
  {
   "cell_type": "markdown",
   "metadata": {},
   "source": [
    "**Aufgabe** \\\n",
    "Bevor Sie weiterlesen: \\\n",
    "Was fällt Ihnen auf? Beschreiben Sie den oberen Graphen und treffen Sie eine Aussage über die wirtschaftliche Entwicklung der einzelnen Regionen. Gibt es Dinge die Sie überraschen? Können Sie sich diese erklären?\n",
    "Diskutieren Sie mit Ihren Kommilitonen"
   ]
  },
  {
   "cell_type": "code",
   "execution_count": null,
   "metadata": {},
   "outputs": [],
   "source": []
  },
  {
   "cell_type": "markdown",
   "metadata": {},
   "source": [
    "### Dichteplots\n",
    "Um Verteilungen darzustellen gibt es außer den Boxplots auch die Möglichkeit diese mit Dichteplots zu veranschaulichen. Dichteplots sind nicht immer so übersichtlich wie Boxplots, enthalten aber mehr Informationen über die Form der Verteilung."
   ]
  },
  {
   "cell_type": "code",
   "execution_count": null,
   "metadata": {},
   "outputs": [],
   "source": [
    "# Wir vergleichen die Einkommensverteilungen in den Entwicklungsländern und dem Westen in den Jahren 1975 und 2010\n",
    "\n",
    "plot_data = gapminder_clean[gapminder_clean.year.isin([1975,2010])]\n",
    "\n",
    "gd1=(p9.ggplot(plot_data, \n",
    "          p9.aes(x='dollars_per_day', y='..count..',fill = 'group')) #y=count -> Tatsächliche Anzahl (plots nicht 1 Normiert)\n",
    "   + p9.geom_density(alpha = 0.5,bw = 0.75) \n",
    "   +p9.facet_grid('year ~.')\n",
    "   #+ p9.theme(axis_text_x = p9.element_text(rotation = 90, hjust = 1))\n",
    "   + p9.scale_x_continuous(trans = 'log2')\n",
    ")\n",
    "\n",
    "print(gd1)"
   ]
  },
  {
   "cell_type": "markdown",
   "metadata": {},
   "source": [
    "Es ist erstaunlich, aber offensichtlich geht es einer ganzen Menge an Personen (Ländern) im Jahre 2010 schlechter als im Jahre 1975. Wie können wir uns das erklären?"
   ]
  },
  {
   "cell_type": "code",
   "execution_count": null,
   "metadata": {},
   "outputs": [],
   "source": [
    "# Vergleichen wir dieselben Länder?\n",
    "country_list_1975 = plot_data[plot_data.year == 1975].country.unique()\n",
    "country_list_2010 = plot_data[plot_data.year == 2010].country.unique()\n",
    "\n",
    "print(set(country_list_1975) == set(country_list_2010))\n",
    "print(len(country_list_1975),len(country_list_2010))"
   ]
  },
  {
   "cell_type": "markdown",
   "metadata": {},
   "source": [
    "Wir sehen, dass im obigen Graphen Daten für Länder 2010 vohanden sind, die 1975 nicht berücksichtigt wurden. Daher wollen wir hier nur die Länder aussuchen für die für beide Jahre die Daten vorhanden sind. \n",
    "Im übrigen haben wir denselben Fehler auch mit den Boxplots gemacht. Wenn Sie Lust haben können Sie die Boxplots noch einmal wiederholen und nur Länder in den Vergleich mitnehmen für die für beide Jahre Daten vorhanden sind. "
   ]
  },
  {
   "cell_type": "code",
   "execution_count": null,
   "metadata": {
    "scrolled": true
   },
   "outputs": [],
   "source": [
    "comon_countries = np.intersect1d(country_list_1975,country_list_2010) # Daten für beide Jahre vorhanden\n",
    "\n",
    "gd2=(p9.ggplot(plot_data[plot_data.country.isin(comon_countries)], \n",
    "          p9.aes(x='dollars_per_day', y='..count..',fill = 'group')) \n",
    "   +p9.geom_density(alpha = 0.5,bw=0.75) \n",
    "   +p9.facet_grid('year ~.')\n",
    "   #+ p9.theme(axis_text_x = p9.element_text(rotation = 90, hjust = 1))\n",
    "   + p9.scale_x_continuous(trans = 'log2')\n",
    ")\n",
    "\n",
    "print(gd2)"
   ]
  },
  {
   "cell_type": "markdown",
   "metadata": {},
   "source": [
    "Wir schauen uns zuerst einmal noch die Entwicklung des Westens genauer an, indem wir diesen noch in die Regionen aufsplitten und auch mit dem Parameter bw etwas spielen"
   ]
  },
  {
   "cell_type": "code",
   "execution_count": null,
   "metadata": {},
   "outputs": [],
   "source": [
    "# verändern Sie den Parameter bw von 0.75 auf 0.5, 0.25, 0.15\n",
    "# Was fällt Ihnen auf? Was bewirkt dieser Parameter?\n",
    "gd3=(p9.ggplot(plot_data[(plot_data.country.isin(comon_countries)) & (plot_data['group']=='west') ], \n",
    "          p9.aes(x='dollars_per_day', y='..count..',fill = 'region')) \n",
    "   +p9.geom_density(alpha = 0.5,bw=0.75) \n",
    "   +p9.facet_grid('year ~.')\n",
    "   #+ p9.theme(axis_text_x = p9.element_text(rotation = 90, hjust = 1))\n",
    "   + p9.scale_x_continuous(trans = 'log2')\n",
    ")\n",
    "\n",
    "print(gd3)"
   ]
  },
  {
   "cell_type": "markdown",
   "metadata": {},
   "source": [
    "**Aufgabe:** \n",
    "    \n",
    "Bestimmen Sie die Ausreißer nach oben und nach unten für den Westen. In welchen Ländern ist das BIP pro Kopf deutlich \n",
    "über dem Schnitt und wo deutlich darunter?"
   ]
  },
  {
   "cell_type": "code",
   "execution_count": null,
   "metadata": {},
   "outputs": [],
   "source": [
    "#Wer ist der Ausreißer nach unten?"
   ]
  },
  {
   "cell_type": "code",
   "execution_count": null,
   "metadata": {},
   "outputs": [],
   "source": [
    "#Wer ist der Ausreißer nach oben?"
   ]
  },
  {
   "cell_type": "markdown",
   "metadata": {},
   "source": [
    "Im folgenden wollen wir uns noch die Entwicklungsländer genauer anschauen. Wenn wir den oberen Graphen mit den Dichteplots genau anschauen, so können wir erkennen, dass es offensichtlich einen Teil bei den Entwicklungsländern gibt die deutliche Fortschritte gemacht haben. Man erkennt dies an der Bimodalen Struktur der Verteilung und dadurch, dass der 2te Modalwert merklich nach rechts gewandert ist.\n",
    "\n",
    "Um einen besseren Überblick zu gewinnen teilen wir die Entwicklungsländer in die Regionen East Asia, Latin America, Sub-Sahara Africa und die anderen ein."
   ]
  },
  {
   "cell_type": "code",
   "execution_count": null,
   "metadata": {},
   "outputs": [],
   "source": [
    "#Einteilen der Entwicklungsländer in die neuen Kategorien\n",
    "developing = plot_data[(plot_data.country.isin(comon_countries)) & (plot_data['group']=='developing')].copy()\n",
    "\n",
    "developing['group'] = np.select(\n",
    "    [\n",
    "        developing.region.isin([\"Eastern Asia\", \"South-Eastern Asia\"]),\n",
    "        developing.region.isin([\"Caribbean\", \"Central America\", \"South America\"]),\n",
    "        (developing.continent == 'Africa') & ~(developing.region.isin([\"Northern Africa\"]))\n",
    "    ],\n",
    "    ['East Asia',\n",
    "     'Latin America',\n",
    "     'Sub-Sahara Africa'\n",
    "    ],\n",
    "    default = 'others'\n",
    ")\n",
    "\n",
    "developing.head()"
   ]
  },
  {
   "cell_type": "code",
   "execution_count": null,
   "metadata": {
    "scrolled": true
   },
   "outputs": [],
   "source": [
    "#Darstellung der Dichteplots für diese Unterteilung\n",
    "gd4=(p9.ggplot(developing, \n",
    "          p9.aes(x='dollars_per_day', y='..count..',fill = 'group')) \n",
    "   +p9.geom_density(alpha = 0.3,bw=0.75) \n",
    "   +p9.facet_grid('year ~.')\n",
    "   + p9.scale_x_continuous(trans = 'log2')\n",
    ")\n",
    "\n",
    "print(gd4)"
   ]
  },
  {
   "cell_type": "code",
   "execution_count": null,
   "metadata": {},
   "outputs": [],
   "source": [
    "#Wir können die Dichteplots auch übereinanderlegen mit position = stack \n",
    "gb3=(p9.ggplot(developing, \n",
    "          p9.aes(x='dollars_per_day', y='..count..',fill = 'group')) \n",
    "   +p9.geom_density(alpha = 0.3,bw=0.75,position = 'stack') \n",
    "   +p9.facet_grid('year ~.')\n",
    "   + p9.scale_x_continuous(trans = 'log2')\n",
    ")\n",
    "\n",
    "print(gb3)"
   ]
  },
  {
   "cell_type": "markdown",
   "metadata": {},
   "source": [
    "Wir koennen jetzt die Daten noch mit der Bevoelkerung gewichten die die einzelnen Laender in den Jahren hatten. Dadurch koennen wir sehen ob sich die Einkommensverhältnisse für eine Grosszahl der Menschen verbessert hat"
   ]
  },
  {
   "cell_type": "code",
   "execution_count": null,
   "metadata": {},
   "outputs": [],
   "source": [
    "def make_weights(gdf):\n",
    "    gdf['weights'] = gdf['population']/gdf['population'].sum()\n",
    "    return gdf\n",
    "\n",
    "developing = developing.groupby('year',group_keys=False).apply(make_weights)\n",
    "\n",
    "#check ob die Gewichte aufsummiert 1 ergeben\n",
    "developing.groupby('year').weights.sum()"
   ]
  },
  {
   "cell_type": "markdown",
   "metadata": {},
   "source": [
    "Nun koennen wir also den plot mit den gewichteten Daten nochmals wiederholen"
   ]
  },
  {
   "cell_type": "code",
   "execution_count": null,
   "metadata": {},
   "outputs": [],
   "source": [
    "gb3=(p9.ggplot(developing, \n",
    "          p9.aes(x='dollars_per_day',fill = 'group',weight = 'weights')) \n",
    "   +p9.geom_density(alpha = 0.3,bw=0.75,position = 'stack') \n",
    "   +p9.facet_grid('year ~.')\n",
    "   #+ p9.theme(axis_text_x = p9.element_text(rotation = 90, hjust = 1))\n",
    "   + p9.scale_x_continuous(trans = 'log2')\n",
    ")\n",
    "\n",
    "print(gb3)"
   ]
  },
  {
   "cell_type": "code",
   "execution_count": null,
   "metadata": {},
   "outputs": [],
   "source": [
    "gb3=(p9.ggplot(developing, \n",
    "          p9.aes(x='dollars_per_day',fill = 'group',weight = 'weights')) \n",
    "   +p9.geom_density(alpha = 0.3,bw=0.75) \n",
    "   +p9.facet_grid('year ~.')\n",
    "   #+ p9.theme(axis_text_x = p9.element_text(rotation = 90, hjust = 1))\n",
    "   + p9.scale_x_continuous(trans = 'log2')\n",
    ")\n",
    "\n",
    "print(gb3)"
   ]
  },
  {
   "cell_type": "markdown",
   "metadata": {},
   "source": [
    "Leider funktioniert das weights Argument nicht. Hier finden Sie eine Diskussion dazu:\n",
    "https://github.com/has2k1/plotnine/issues/392\n",
    "\n",
    "Weitere Information zur Funktion geom_density() finden Sie hier:\n",
    "\n",
    "https://plotnine.readthedocs.io/en/stable/generated/plotnine.geoms.geom_density.html\n",
    "\n",
    "Um dennoch eine gewichtete Darstellung zu erhalten generieren wir zuerst einen neuen Datenframe. Für diesen multiplizieren wir entsprechend der Gewichte die Zeilen. D.h. hat eine Region doppelt soviel Einwohner wie eine andere so wird diese Zeile einfach doppelt so oft in den neuen DataFrame hineingeschrieben. Am Ende verwenden wir dann die after_stat('count') Option um die gewichtete Darstellung zu erhalten."
   ]
  },
  {
   "cell_type": "code",
   "execution_count": null,
   "metadata": {},
   "outputs": [],
   "source": [
    "df = developing[(developing.year.isin([1975,2010]))].copy()\n",
    "\n",
    "# Diese Hilfsfunktion vervielfältigt die Zeilen entsprechend der Gewichtungen\n",
    "def weight_to_frequency(df, wt, precision=3):\n",
    "    ns = np.round(((wt/sum(wt)) * (10**precision))).astype(int)  # no. times to replicate\n",
    "    idx = np.repeat(df.index, ns)                     # selection indices\n",
    "    df = df.loc[idx].reset_index(drop=True)     # replication\n",
    "    return df\n",
    "\n",
    "# neuer Datensatz mit redundanten Daten\n",
    "df = weight_to_frequency(df, df.weights, precision=3)"
   ]
  },
  {
   "cell_type": "code",
   "execution_count": null,
   "metadata": {},
   "outputs": [],
   "source": [
    "gb4=(p9.ggplot(df, \n",
    "          p9.aes(x='dollars_per_day',fill = 'group')) \n",
    "   +p9.geom_density(p9.aes(y=p9.after_stat('count')),alpha = 0.3,bw=0.75) \n",
    "   +p9.facet_grid('year ~.')\n",
    "   + p9.scale_x_continuous(trans = 'log2')\n",
    ")\n",
    "print(gb4)"
   ]
  },
  {
   "cell_type": "markdown",
   "metadata": {},
   "source": [
    "Um sicher zu sein prüfen wir noch die Gewichte pro Jahr und Gruppe um zu schauen ob diese in etwa der Darstellung entsprechen.\n",
    "Wir sehen, dass Ostasien und die anderen knapp 80M% der Bevölkerung in den Entwicklungsländern darstellen und diese beiden Gruppen große Fortschritte gemacht haben was das Einkommen angeht. Besonders eindrucksvoll ist die Entwicklung Ostasiens."
   ]
  },
  {
   "cell_type": "code",
   "execution_count": null,
   "metadata": {},
   "outputs": [],
   "source": [
    "developing.groupby(['year','group']).weights.sum()"
   ]
  },
  {
   "cell_type": "markdown",
   "metadata": {},
   "source": [
    "**Aufgabe:**\n",
    "\n",
    "Kommentieren Sie diese Graphen. Was fällt auf?"
   ]
  },
  {
   "cell_type": "code",
   "execution_count": null,
   "metadata": {},
   "outputs": [],
   "source": []
  },
  {
   "cell_type": "code",
   "execution_count": null,
   "metadata": {},
   "outputs": [],
   "source": []
  }
 ],
 "metadata": {
  "kernelspec": {
   "display_name": "Python 3 (ipykernel)",
   "language": "python",
   "name": "python3"
  },
  "language_info": {
   "codemirror_mode": {
    "name": "ipython",
    "version": 3
   },
   "file_extension": ".py",
   "mimetype": "text/x-python",
   "name": "python",
   "nbconvert_exporter": "python",
   "pygments_lexer": "ipython3",
   "version": "3.9.7"
  },
  "varInspector": {
   "cols": {
    "lenName": 16,
    "lenType": 16,
    "lenVar": 40
   },
   "kernels_config": {
    "python": {
     "delete_cmd_postfix": "",
     "delete_cmd_prefix": "del ",
     "library": "var_list.py",
     "varRefreshCmd": "print(var_dic_list())"
    },
    "r": {
     "delete_cmd_postfix": ") ",
     "delete_cmd_prefix": "rm(",
     "library": "var_list.r",
     "varRefreshCmd": "cat(var_dic_list()) "
    }
   },
   "types_to_exclude": [
    "module",
    "function",
    "builtin_function_or_method",
    "instance",
    "_Feature"
   ],
   "window_display": false
  }
 },
 "nbformat": 4,
 "nbformat_minor": 4
}
